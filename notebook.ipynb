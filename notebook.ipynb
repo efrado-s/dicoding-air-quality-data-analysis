{
  "cells": [
    {
      "cell_type": "markdown",
      "metadata": {
        "id": "H9wADwK78DCz"
      },
      "source": [
        "# Proyek Analisis Data: Air Quality Dataset\n",
        "- **Nama:** Efrado Suryadi\n",
        "- **Email:** efradosuryadi@gmail.com\n",
        "- **ID Dicoding:** efrado_suryadi_tPYl"
      ]
    },
    {
      "cell_type": "markdown",
      "metadata": {
        "id": "eE0raob58DC0"
      },
      "source": [
        "## Menentukan Pertanyaan Bisnis"
      ]
    },
    {
      "cell_type": "markdown",
      "metadata": {
        "id": "GmQeQ5YF8DC0"
      },
      "source": [
        "- Bagaimana bentuk pola temperatur di salah satu stasiun?\n",
        "- Bagaimana kondisi perubahan peningkatan jumlah polutan dari salah satu stasiun?"
      ]
    },
    {
      "cell_type": "markdown",
      "metadata": {
        "id": "H-z4QGlO8DC1"
      },
      "source": [
        "## Import Semua Packages/Library yang Digunakan"
      ]
    },
    {
      "cell_type": "markdown",
      "metadata": {},
      "source": [
        "Imports for dealing with data:"
      ]
    },
    {
      "cell_type": "code",
      "execution_count": 1,
      "metadata": {
        "id": "FVYwaObI8DC1"
      },
      "outputs": [],
      "source": [
        "import numpy as np\n",
        "import pandas as pd\n",
        "import matplotlib.pyplot as plt\n",
        "import seaborn as sns"
      ]
    },
    {
      "cell_type": "markdown",
      "metadata": {},
      "source": [
        "Imports for dealing with files paths:"
      ]
    },
    {
      "cell_type": "code",
      "execution_count": 2,
      "metadata": {},
      "outputs": [],
      "source": [
        "import os"
      ]
    },
    {
      "cell_type": "markdown",
      "metadata": {
        "id": "h_Sh51Xy8DC1"
      },
      "source": [
        "## Data Wrangling"
      ]
    },
    {
      "cell_type": "markdown",
      "metadata": {},
      "source": [
        "### Data information"
      ]
    },
    {
      "cell_type": "markdown",
      "metadata": {},
      "source": [
        "#### Data source"
      ]
    },
    {
      "cell_type": "markdown",
      "metadata": {},
      "source": [
        "Data source for this project is downloaded from the https://github.com/marceloreis/HTI/tree/master. The repository consists of monitoring data of air quality from stations in Beijing, China, which includes:\n",
        "\n",
        "- Aotizhongxin\n",
        "- Changping\n",
        "- Dingling\n",
        "- Dongsi\n",
        "- Guanyuan\n",
        "- Gucheng\n",
        "- Huairou\n",
        "- Nongzhanguan\n",
        "- Shunyi\n",
        "- Tiantan\n",
        "- Wanliu\n",
        "- Wanshouxigong"
      ]
    },
    {
      "cell_type": "markdown",
      "metadata": {},
      "source": [
        "#### Data features"
      ]
    },
    {
      "cell_type": "markdown",
      "metadata": {},
      "source": [
        "Features on the data and their explanations:\n",
        "\n",
        "- `No` : An index or row data for identifying row of data.\n",
        "- `year`: The year of the recorded data.\n",
        "- `month`: The month of the recorded data.\n",
        "- `day`: The day of the month of the recorded data.\n",
        "- `hour`: The hour of the day (0-23) when the observation was made.\n",
        "- `PM2.5`: Concentration of particulate matter with a diameter of 2.5 micrometers or smaller (measured in µg/m³). The higher its level is, the more dangerous it is, as it can affect health condition, especially respitory conditions.\n",
        "- `PM10`: Concentration of particulate matter with a diameter of 10 micrometers or smaller (measured in µg/m³). Similar to PM2.5 but includes larger particles; important for assessing overall air quality.\n",
        "- `SO2`: Concentration of sulfur dioxide (measured in µg/m³). A pollutant that can come from industrial processes and fossil fuel combustion; high levels can cause respiratory problems.\n",
        "- `NO2`: Concentration of nitrogen dioxide (measured in µg/m³). A pollutant from vehicle emissions and other sources; contributes to smog and can affect lung function.\n",
        "- `CO`: Concentration of carbon monoxide (measured in µg/m³). A colorless, odorless gas produced by incomplete combustion; can be harmful at high levels.\n",
        "- `O3`: Concentration of ozone (measured in µg/m³). Ground-level ozone is a key component of smog and can harm health and the environment; usually forms in the presence of sunlight.\n",
        "- `TEMP`: Temperature (measured in degrees Celsius). Provides context for air quality readings; can influence pollutant concentrations and reactions.\n",
        "- `PRES`: Atmospheric pressure (measured in hPa or millibars). Important for understanding weather patterns and conditions affecting air quality.\n",
        "- `DEWP`: Dew point temperature (measured in degrees Celsius). Indicates humidity levels and can help understand weather conditions affecting air quality.\n",
        "- `RAIN`: Amount of rainfall (measured in mm). Rain can help clear pollutants from the air, so it's important for understanding air quality variations.\n",
        "- `wd`: Wind direction (usually measured in degrees). Provides information about the source of air pollutants and can affect dispersion.\n",
        "- `WSPM`: Wind speed (measured in meters per second or km/h). Important for understanding how pollutants disperse in the atmosphere.\n",
        "- `station`: Identifier or name of the monitoring station where the data was collected. Helps identify the geographical location of the measurements, which is crucial for spatial analysis of air quality."
      ]
    },
    {
      "cell_type": "markdown",
      "metadata": {
        "id": "sXU2GBYu8DC1"
      },
      "source": [
        "### Gathering Data"
      ]
    },
    {
      "cell_type": "markdown",
      "metadata": {},
      "source": [
        "#### Reading data from the `data` directory"
      ]
    },
    {
      "cell_type": "markdown",
      "metadata": {},
      "source": [
        "Get the directory path of `data` directory that consists of all of the `csv` files:"
      ]
    },
    {
      "cell_type": "code",
      "execution_count": 3,
      "metadata": {
        "id": "zjCBk1BI8DC1"
      },
      "outputs": [],
      "source": [
        "data_path = os.path.join(os.getcwd(), \"data\")"
      ]
    },
    {
      "cell_type": "markdown",
      "metadata": {},
      "source": [
        "Get the name of all `.csv` files as a list:"
      ]
    },
    {
      "cell_type": "code",
      "execution_count": 4,
      "metadata": {},
      "outputs": [
        {
          "data": {
            "text/plain": [
              "['PRSA_Data_Aotizhongxin_20130301-20170228.csv',\n",
              " 'PRSA_Data_Changping_20130301-20170228.csv',\n",
              " 'PRSA_Data_Dingling_20130301-20170228.csv',\n",
              " 'PRSA_Data_Dongsi_20130301-20170228.csv',\n",
              " 'PRSA_Data_Guanyuan_20130301-20170228.csv',\n",
              " 'PRSA_Data_Gucheng_20130301-20170228.csv',\n",
              " 'PRSA_Data_Huairou_20130301-20170228.csv',\n",
              " 'PRSA_Data_Nongzhanguan_20130301-20170228.csv',\n",
              " 'PRSA_Data_Shunyi_20130301-20170228.csv',\n",
              " 'PRSA_Data_Tiantan_20130301-20170228.csv',\n",
              " 'PRSA_Data_Wanliu_20130301-20170228.csv',\n",
              " 'PRSA_Data_Wanshouxigong_20130301-20170228.csv']"
            ]
          },
          "execution_count": 4,
          "metadata": {},
          "output_type": "execute_result"
        }
      ],
      "source": [
        "csv_files = os.listdir(data_path)\n",
        "csv_files"
      ]
    },
    {
      "cell_type": "markdown",
      "metadata": {},
      "source": [
        "Examples of opening one `.csv` file from the `data` directory (`Aotizhongxin` in this case):"
      ]
    },
    {
      "cell_type": "code",
      "execution_count": 5,
      "metadata": {},
      "outputs": [
        {
          "data": {
            "text/html": [
              "<div>\n",
              "<style scoped>\n",
              "    .dataframe tbody tr th:only-of-type {\n",
              "        vertical-align: middle;\n",
              "    }\n",
              "\n",
              "    .dataframe tbody tr th {\n",
              "        vertical-align: top;\n",
              "    }\n",
              "\n",
              "    .dataframe thead th {\n",
              "        text-align: right;\n",
              "    }\n",
              "</style>\n",
              "<table border=\"1\" class=\"dataframe\">\n",
              "  <thead>\n",
              "    <tr style=\"text-align: right;\">\n",
              "      <th></th>\n",
              "      <th>No</th>\n",
              "      <th>year</th>\n",
              "      <th>month</th>\n",
              "      <th>day</th>\n",
              "      <th>hour</th>\n",
              "      <th>PM2.5</th>\n",
              "      <th>PM10</th>\n",
              "      <th>SO2</th>\n",
              "      <th>NO2</th>\n",
              "      <th>CO</th>\n",
              "      <th>O3</th>\n",
              "      <th>TEMP</th>\n",
              "      <th>PRES</th>\n",
              "      <th>DEWP</th>\n",
              "      <th>RAIN</th>\n",
              "      <th>wd</th>\n",
              "      <th>WSPM</th>\n",
              "      <th>station</th>\n",
              "    </tr>\n",
              "  </thead>\n",
              "  <tbody>\n",
              "    <tr>\n",
              "      <th>0</th>\n",
              "      <td>1</td>\n",
              "      <td>2013</td>\n",
              "      <td>3</td>\n",
              "      <td>1</td>\n",
              "      <td>0</td>\n",
              "      <td>4.0</td>\n",
              "      <td>4.0</td>\n",
              "      <td>4.0</td>\n",
              "      <td>7.0</td>\n",
              "      <td>300.0</td>\n",
              "      <td>77.0</td>\n",
              "      <td>-0.7</td>\n",
              "      <td>1023.0</td>\n",
              "      <td>-18.8</td>\n",
              "      <td>0.0</td>\n",
              "      <td>NNW</td>\n",
              "      <td>4.4</td>\n",
              "      <td>Aotizhongxin</td>\n",
              "    </tr>\n",
              "    <tr>\n",
              "      <th>1</th>\n",
              "      <td>2</td>\n",
              "      <td>2013</td>\n",
              "      <td>3</td>\n",
              "      <td>1</td>\n",
              "      <td>1</td>\n",
              "      <td>8.0</td>\n",
              "      <td>8.0</td>\n",
              "      <td>4.0</td>\n",
              "      <td>7.0</td>\n",
              "      <td>300.0</td>\n",
              "      <td>77.0</td>\n",
              "      <td>-1.1</td>\n",
              "      <td>1023.2</td>\n",
              "      <td>-18.2</td>\n",
              "      <td>0.0</td>\n",
              "      <td>N</td>\n",
              "      <td>4.7</td>\n",
              "      <td>Aotizhongxin</td>\n",
              "    </tr>\n",
              "    <tr>\n",
              "      <th>2</th>\n",
              "      <td>3</td>\n",
              "      <td>2013</td>\n",
              "      <td>3</td>\n",
              "      <td>1</td>\n",
              "      <td>2</td>\n",
              "      <td>7.0</td>\n",
              "      <td>7.0</td>\n",
              "      <td>5.0</td>\n",
              "      <td>10.0</td>\n",
              "      <td>300.0</td>\n",
              "      <td>73.0</td>\n",
              "      <td>-1.1</td>\n",
              "      <td>1023.5</td>\n",
              "      <td>-18.2</td>\n",
              "      <td>0.0</td>\n",
              "      <td>NNW</td>\n",
              "      <td>5.6</td>\n",
              "      <td>Aotizhongxin</td>\n",
              "    </tr>\n",
              "    <tr>\n",
              "      <th>3</th>\n",
              "      <td>4</td>\n",
              "      <td>2013</td>\n",
              "      <td>3</td>\n",
              "      <td>1</td>\n",
              "      <td>3</td>\n",
              "      <td>6.0</td>\n",
              "      <td>6.0</td>\n",
              "      <td>11.0</td>\n",
              "      <td>11.0</td>\n",
              "      <td>300.0</td>\n",
              "      <td>72.0</td>\n",
              "      <td>-1.4</td>\n",
              "      <td>1024.5</td>\n",
              "      <td>-19.4</td>\n",
              "      <td>0.0</td>\n",
              "      <td>NW</td>\n",
              "      <td>3.1</td>\n",
              "      <td>Aotizhongxin</td>\n",
              "    </tr>\n",
              "    <tr>\n",
              "      <th>4</th>\n",
              "      <td>5</td>\n",
              "      <td>2013</td>\n",
              "      <td>3</td>\n",
              "      <td>1</td>\n",
              "      <td>4</td>\n",
              "      <td>3.0</td>\n",
              "      <td>3.0</td>\n",
              "      <td>12.0</td>\n",
              "      <td>12.0</td>\n",
              "      <td>300.0</td>\n",
              "      <td>72.0</td>\n",
              "      <td>-2.0</td>\n",
              "      <td>1025.2</td>\n",
              "      <td>-19.5</td>\n",
              "      <td>0.0</td>\n",
              "      <td>N</td>\n",
              "      <td>2.0</td>\n",
              "      <td>Aotizhongxin</td>\n",
              "    </tr>\n",
              "    <tr>\n",
              "      <th>...</th>\n",
              "      <td>...</td>\n",
              "      <td>...</td>\n",
              "      <td>...</td>\n",
              "      <td>...</td>\n",
              "      <td>...</td>\n",
              "      <td>...</td>\n",
              "      <td>...</td>\n",
              "      <td>...</td>\n",
              "      <td>...</td>\n",
              "      <td>...</td>\n",
              "      <td>...</td>\n",
              "      <td>...</td>\n",
              "      <td>...</td>\n",
              "      <td>...</td>\n",
              "      <td>...</td>\n",
              "      <td>...</td>\n",
              "      <td>...</td>\n",
              "      <td>...</td>\n",
              "    </tr>\n",
              "    <tr>\n",
              "      <th>35059</th>\n",
              "      <td>35060</td>\n",
              "      <td>2017</td>\n",
              "      <td>2</td>\n",
              "      <td>28</td>\n",
              "      <td>19</td>\n",
              "      <td>12.0</td>\n",
              "      <td>29.0</td>\n",
              "      <td>5.0</td>\n",
              "      <td>35.0</td>\n",
              "      <td>400.0</td>\n",
              "      <td>95.0</td>\n",
              "      <td>12.5</td>\n",
              "      <td>1013.5</td>\n",
              "      <td>-16.2</td>\n",
              "      <td>0.0</td>\n",
              "      <td>NW</td>\n",
              "      <td>2.4</td>\n",
              "      <td>Aotizhongxin</td>\n",
              "    </tr>\n",
              "    <tr>\n",
              "      <th>35060</th>\n",
              "      <td>35061</td>\n",
              "      <td>2017</td>\n",
              "      <td>2</td>\n",
              "      <td>28</td>\n",
              "      <td>20</td>\n",
              "      <td>13.0</td>\n",
              "      <td>37.0</td>\n",
              "      <td>7.0</td>\n",
              "      <td>45.0</td>\n",
              "      <td>500.0</td>\n",
              "      <td>81.0</td>\n",
              "      <td>11.6</td>\n",
              "      <td>1013.6</td>\n",
              "      <td>-15.1</td>\n",
              "      <td>0.0</td>\n",
              "      <td>WNW</td>\n",
              "      <td>0.9</td>\n",
              "      <td>Aotizhongxin</td>\n",
              "    </tr>\n",
              "    <tr>\n",
              "      <th>35061</th>\n",
              "      <td>35062</td>\n",
              "      <td>2017</td>\n",
              "      <td>2</td>\n",
              "      <td>28</td>\n",
              "      <td>21</td>\n",
              "      <td>16.0</td>\n",
              "      <td>37.0</td>\n",
              "      <td>10.0</td>\n",
              "      <td>66.0</td>\n",
              "      <td>700.0</td>\n",
              "      <td>58.0</td>\n",
              "      <td>10.8</td>\n",
              "      <td>1014.2</td>\n",
              "      <td>-13.3</td>\n",
              "      <td>0.0</td>\n",
              "      <td>NW</td>\n",
              "      <td>1.1</td>\n",
              "      <td>Aotizhongxin</td>\n",
              "    </tr>\n",
              "    <tr>\n",
              "      <th>35062</th>\n",
              "      <td>35063</td>\n",
              "      <td>2017</td>\n",
              "      <td>2</td>\n",
              "      <td>28</td>\n",
              "      <td>22</td>\n",
              "      <td>21.0</td>\n",
              "      <td>44.0</td>\n",
              "      <td>12.0</td>\n",
              "      <td>87.0</td>\n",
              "      <td>700.0</td>\n",
              "      <td>35.0</td>\n",
              "      <td>10.5</td>\n",
              "      <td>1014.4</td>\n",
              "      <td>-12.9</td>\n",
              "      <td>0.0</td>\n",
              "      <td>NNW</td>\n",
              "      <td>1.2</td>\n",
              "      <td>Aotizhongxin</td>\n",
              "    </tr>\n",
              "    <tr>\n",
              "      <th>35063</th>\n",
              "      <td>35064</td>\n",
              "      <td>2017</td>\n",
              "      <td>2</td>\n",
              "      <td>28</td>\n",
              "      <td>23</td>\n",
              "      <td>19.0</td>\n",
              "      <td>31.0</td>\n",
              "      <td>10.0</td>\n",
              "      <td>79.0</td>\n",
              "      <td>600.0</td>\n",
              "      <td>42.0</td>\n",
              "      <td>8.6</td>\n",
              "      <td>1014.1</td>\n",
              "      <td>-15.9</td>\n",
              "      <td>0.0</td>\n",
              "      <td>NNE</td>\n",
              "      <td>1.3</td>\n",
              "      <td>Aotizhongxin</td>\n",
              "    </tr>\n",
              "  </tbody>\n",
              "</table>\n",
              "<p>35064 rows × 18 columns</p>\n",
              "</div>"
            ],
            "text/plain": [
              "          No  year  month  day  hour  PM2.5  PM10   SO2   NO2     CO    O3  \\\n",
              "0          1  2013      3    1     0    4.0   4.0   4.0   7.0  300.0  77.0   \n",
              "1          2  2013      3    1     1    8.0   8.0   4.0   7.0  300.0  77.0   \n",
              "2          3  2013      3    1     2    7.0   7.0   5.0  10.0  300.0  73.0   \n",
              "3          4  2013      3    1     3    6.0   6.0  11.0  11.0  300.0  72.0   \n",
              "4          5  2013      3    1     4    3.0   3.0  12.0  12.0  300.0  72.0   \n",
              "...      ...   ...    ...  ...   ...    ...   ...   ...   ...    ...   ...   \n",
              "35059  35060  2017      2   28    19   12.0  29.0   5.0  35.0  400.0  95.0   \n",
              "35060  35061  2017      2   28    20   13.0  37.0   7.0  45.0  500.0  81.0   \n",
              "35061  35062  2017      2   28    21   16.0  37.0  10.0  66.0  700.0  58.0   \n",
              "35062  35063  2017      2   28    22   21.0  44.0  12.0  87.0  700.0  35.0   \n",
              "35063  35064  2017      2   28    23   19.0  31.0  10.0  79.0  600.0  42.0   \n",
              "\n",
              "       TEMP    PRES  DEWP  RAIN   wd  WSPM       station  \n",
              "0      -0.7  1023.0 -18.8   0.0  NNW   4.4  Aotizhongxin  \n",
              "1      -1.1  1023.2 -18.2   0.0    N   4.7  Aotizhongxin  \n",
              "2      -1.1  1023.5 -18.2   0.0  NNW   5.6  Aotizhongxin  \n",
              "3      -1.4  1024.5 -19.4   0.0   NW   3.1  Aotizhongxin  \n",
              "4      -2.0  1025.2 -19.5   0.0    N   2.0  Aotizhongxin  \n",
              "...     ...     ...   ...   ...  ...   ...           ...  \n",
              "35059  12.5  1013.5 -16.2   0.0   NW   2.4  Aotizhongxin  \n",
              "35060  11.6  1013.6 -15.1   0.0  WNW   0.9  Aotizhongxin  \n",
              "35061  10.8  1014.2 -13.3   0.0   NW   1.1  Aotizhongxin  \n",
              "35062  10.5  1014.4 -12.9   0.0  NNW   1.2  Aotizhongxin  \n",
              "35063   8.6  1014.1 -15.9   0.0  NNE   1.3  Aotizhongxin  \n",
              "\n",
              "[35064 rows x 18 columns]"
            ]
          },
          "execution_count": 5,
          "metadata": {},
          "output_type": "execute_result"
        }
      ],
      "source": [
        "example_df = pd.read_csv(os.path.join(data_path, csv_files[0]))\n",
        "example_df"
      ]
    },
    {
      "cell_type": "markdown",
      "metadata": {},
      "source": [
        "#### Combining all data from csv into one `main_df`"
      ]
    },
    {
      "cell_type": "code",
      "execution_count": 6,
      "metadata": {},
      "outputs": [],
      "source": [
        "csv_dataframes = []\n",
        "\n",
        "for csv_file in csv_files:\n",
        "    df = pd.read_csv(os.path.join(data_path, csv_file))\n",
        "    csv_dataframes.append(df)"
      ]
    },
    {
      "cell_type": "code",
      "execution_count": 63,
      "metadata": {},
      "outputs": [
        {
          "data": {
            "text/html": [
              "<div>\n",
              "<style scoped>\n",
              "    .dataframe tbody tr th:only-of-type {\n",
              "        vertical-align: middle;\n",
              "    }\n",
              "\n",
              "    .dataframe tbody tr th {\n",
              "        vertical-align: top;\n",
              "    }\n",
              "\n",
              "    .dataframe thead th {\n",
              "        text-align: right;\n",
              "    }\n",
              "</style>\n",
              "<table border=\"1\" class=\"dataframe\">\n",
              "  <thead>\n",
              "    <tr style=\"text-align: right;\">\n",
              "      <th></th>\n",
              "      <th>year</th>\n",
              "      <th>month</th>\n",
              "      <th>day</th>\n",
              "      <th>hour</th>\n",
              "      <th>PM2.5</th>\n",
              "      <th>PM10</th>\n",
              "      <th>SO2</th>\n",
              "      <th>NO2</th>\n",
              "      <th>CO</th>\n",
              "      <th>O3</th>\n",
              "      <th>TEMP</th>\n",
              "      <th>PRES</th>\n",
              "      <th>DEWP</th>\n",
              "      <th>RAIN</th>\n",
              "      <th>wd</th>\n",
              "      <th>WSPM</th>\n",
              "      <th>station</th>\n",
              "    </tr>\n",
              "  </thead>\n",
              "  <tbody>\n",
              "    <tr>\n",
              "      <th>0</th>\n",
              "      <td>2013</td>\n",
              "      <td>3</td>\n",
              "      <td>1</td>\n",
              "      <td>0</td>\n",
              "      <td>4.0</td>\n",
              "      <td>4.0</td>\n",
              "      <td>4.0</td>\n",
              "      <td>7.0</td>\n",
              "      <td>300.0</td>\n",
              "      <td>77.0</td>\n",
              "      <td>-0.7</td>\n",
              "      <td>1023.0</td>\n",
              "      <td>-18.8</td>\n",
              "      <td>0.0</td>\n",
              "      <td>NNW</td>\n",
              "      <td>4.4</td>\n",
              "      <td>Aotizhongxin</td>\n",
              "    </tr>\n",
              "    <tr>\n",
              "      <th>1</th>\n",
              "      <td>2013</td>\n",
              "      <td>3</td>\n",
              "      <td>1</td>\n",
              "      <td>1</td>\n",
              "      <td>8.0</td>\n",
              "      <td>8.0</td>\n",
              "      <td>4.0</td>\n",
              "      <td>7.0</td>\n",
              "      <td>300.0</td>\n",
              "      <td>77.0</td>\n",
              "      <td>-1.1</td>\n",
              "      <td>1023.2</td>\n",
              "      <td>-18.2</td>\n",
              "      <td>0.0</td>\n",
              "      <td>N</td>\n",
              "      <td>4.7</td>\n",
              "      <td>Aotizhongxin</td>\n",
              "    </tr>\n",
              "    <tr>\n",
              "      <th>2</th>\n",
              "      <td>2013</td>\n",
              "      <td>3</td>\n",
              "      <td>1</td>\n",
              "      <td>2</td>\n",
              "      <td>7.0</td>\n",
              "      <td>7.0</td>\n",
              "      <td>5.0</td>\n",
              "      <td>10.0</td>\n",
              "      <td>300.0</td>\n",
              "      <td>73.0</td>\n",
              "      <td>-1.1</td>\n",
              "      <td>1023.5</td>\n",
              "      <td>-18.2</td>\n",
              "      <td>0.0</td>\n",
              "      <td>NNW</td>\n",
              "      <td>5.6</td>\n",
              "      <td>Aotizhongxin</td>\n",
              "    </tr>\n",
              "    <tr>\n",
              "      <th>3</th>\n",
              "      <td>2013</td>\n",
              "      <td>3</td>\n",
              "      <td>1</td>\n",
              "      <td>3</td>\n",
              "      <td>6.0</td>\n",
              "      <td>6.0</td>\n",
              "      <td>11.0</td>\n",
              "      <td>11.0</td>\n",
              "      <td>300.0</td>\n",
              "      <td>72.0</td>\n",
              "      <td>-1.4</td>\n",
              "      <td>1024.5</td>\n",
              "      <td>-19.4</td>\n",
              "      <td>0.0</td>\n",
              "      <td>NW</td>\n",
              "      <td>3.1</td>\n",
              "      <td>Aotizhongxin</td>\n",
              "    </tr>\n",
              "    <tr>\n",
              "      <th>4</th>\n",
              "      <td>2013</td>\n",
              "      <td>3</td>\n",
              "      <td>1</td>\n",
              "      <td>4</td>\n",
              "      <td>3.0</td>\n",
              "      <td>3.0</td>\n",
              "      <td>12.0</td>\n",
              "      <td>12.0</td>\n",
              "      <td>300.0</td>\n",
              "      <td>72.0</td>\n",
              "      <td>-2.0</td>\n",
              "      <td>1025.2</td>\n",
              "      <td>-19.5</td>\n",
              "      <td>0.0</td>\n",
              "      <td>N</td>\n",
              "      <td>2.0</td>\n",
              "      <td>Aotizhongxin</td>\n",
              "    </tr>\n",
              "    <tr>\n",
              "      <th>...</th>\n",
              "      <td>...</td>\n",
              "      <td>...</td>\n",
              "      <td>...</td>\n",
              "      <td>...</td>\n",
              "      <td>...</td>\n",
              "      <td>...</td>\n",
              "      <td>...</td>\n",
              "      <td>...</td>\n",
              "      <td>...</td>\n",
              "      <td>...</td>\n",
              "      <td>...</td>\n",
              "      <td>...</td>\n",
              "      <td>...</td>\n",
              "      <td>...</td>\n",
              "      <td>...</td>\n",
              "      <td>...</td>\n",
              "      <td>...</td>\n",
              "    </tr>\n",
              "    <tr>\n",
              "      <th>420763</th>\n",
              "      <td>2017</td>\n",
              "      <td>2</td>\n",
              "      <td>28</td>\n",
              "      <td>19</td>\n",
              "      <td>11.0</td>\n",
              "      <td>32.0</td>\n",
              "      <td>3.0</td>\n",
              "      <td>24.0</td>\n",
              "      <td>400.0</td>\n",
              "      <td>72.0</td>\n",
              "      <td>12.5</td>\n",
              "      <td>1013.5</td>\n",
              "      <td>-16.2</td>\n",
              "      <td>0.0</td>\n",
              "      <td>NW</td>\n",
              "      <td>2.4</td>\n",
              "      <td>Wanshouxigong</td>\n",
              "    </tr>\n",
              "    <tr>\n",
              "      <th>420764</th>\n",
              "      <td>2017</td>\n",
              "      <td>2</td>\n",
              "      <td>28</td>\n",
              "      <td>20</td>\n",
              "      <td>13.0</td>\n",
              "      <td>32.0</td>\n",
              "      <td>3.0</td>\n",
              "      <td>41.0</td>\n",
              "      <td>500.0</td>\n",
              "      <td>50.0</td>\n",
              "      <td>11.6</td>\n",
              "      <td>1013.6</td>\n",
              "      <td>-15.1</td>\n",
              "      <td>0.0</td>\n",
              "      <td>WNW</td>\n",
              "      <td>0.9</td>\n",
              "      <td>Wanshouxigong</td>\n",
              "    </tr>\n",
              "    <tr>\n",
              "      <th>420765</th>\n",
              "      <td>2017</td>\n",
              "      <td>2</td>\n",
              "      <td>28</td>\n",
              "      <td>21</td>\n",
              "      <td>14.0</td>\n",
              "      <td>28.0</td>\n",
              "      <td>4.0</td>\n",
              "      <td>38.0</td>\n",
              "      <td>500.0</td>\n",
              "      <td>54.0</td>\n",
              "      <td>10.8</td>\n",
              "      <td>1014.2</td>\n",
              "      <td>-13.3</td>\n",
              "      <td>0.0</td>\n",
              "      <td>NW</td>\n",
              "      <td>1.1</td>\n",
              "      <td>Wanshouxigong</td>\n",
              "    </tr>\n",
              "    <tr>\n",
              "      <th>420766</th>\n",
              "      <td>2017</td>\n",
              "      <td>2</td>\n",
              "      <td>28</td>\n",
              "      <td>22</td>\n",
              "      <td>12.0</td>\n",
              "      <td>23.0</td>\n",
              "      <td>4.0</td>\n",
              "      <td>30.0</td>\n",
              "      <td>400.0</td>\n",
              "      <td>59.0</td>\n",
              "      <td>10.5</td>\n",
              "      <td>1014.4</td>\n",
              "      <td>-12.9</td>\n",
              "      <td>0.0</td>\n",
              "      <td>NNW</td>\n",
              "      <td>1.2</td>\n",
              "      <td>Wanshouxigong</td>\n",
              "    </tr>\n",
              "    <tr>\n",
              "      <th>420767</th>\n",
              "      <td>2017</td>\n",
              "      <td>2</td>\n",
              "      <td>28</td>\n",
              "      <td>23</td>\n",
              "      <td>13.0</td>\n",
              "      <td>19.0</td>\n",
              "      <td>4.0</td>\n",
              "      <td>38.0</td>\n",
              "      <td>600.0</td>\n",
              "      <td>49.0</td>\n",
              "      <td>8.6</td>\n",
              "      <td>1014.1</td>\n",
              "      <td>-15.9</td>\n",
              "      <td>0.0</td>\n",
              "      <td>NNE</td>\n",
              "      <td>1.3</td>\n",
              "      <td>Wanshouxigong</td>\n",
              "    </tr>\n",
              "  </tbody>\n",
              "</table>\n",
              "<p>420768 rows × 17 columns</p>\n",
              "</div>"
            ],
            "text/plain": [
              "        year  month  day  hour  PM2.5  PM10   SO2   NO2     CO    O3  TEMP  \\\n",
              "0       2013      3    1     0    4.0   4.0   4.0   7.0  300.0  77.0  -0.7   \n",
              "1       2013      3    1     1    8.0   8.0   4.0   7.0  300.0  77.0  -1.1   \n",
              "2       2013      3    1     2    7.0   7.0   5.0  10.0  300.0  73.0  -1.1   \n",
              "3       2013      3    1     3    6.0   6.0  11.0  11.0  300.0  72.0  -1.4   \n",
              "4       2013      3    1     4    3.0   3.0  12.0  12.0  300.0  72.0  -2.0   \n",
              "...      ...    ...  ...   ...    ...   ...   ...   ...    ...   ...   ...   \n",
              "420763  2017      2   28    19   11.0  32.0   3.0  24.0  400.0  72.0  12.5   \n",
              "420764  2017      2   28    20   13.0  32.0   3.0  41.0  500.0  50.0  11.6   \n",
              "420765  2017      2   28    21   14.0  28.0   4.0  38.0  500.0  54.0  10.8   \n",
              "420766  2017      2   28    22   12.0  23.0   4.0  30.0  400.0  59.0  10.5   \n",
              "420767  2017      2   28    23   13.0  19.0   4.0  38.0  600.0  49.0   8.6   \n",
              "\n",
              "          PRES  DEWP  RAIN   wd  WSPM        station  \n",
              "0       1023.0 -18.8   0.0  NNW   4.4   Aotizhongxin  \n",
              "1       1023.2 -18.2   0.0    N   4.7   Aotizhongxin  \n",
              "2       1023.5 -18.2   0.0  NNW   5.6   Aotizhongxin  \n",
              "3       1024.5 -19.4   0.0   NW   3.1   Aotizhongxin  \n",
              "4       1025.2 -19.5   0.0    N   2.0   Aotizhongxin  \n",
              "...        ...   ...   ...  ...   ...            ...  \n",
              "420763  1013.5 -16.2   0.0   NW   2.4  Wanshouxigong  \n",
              "420764  1013.6 -15.1   0.0  WNW   0.9  Wanshouxigong  \n",
              "420765  1014.2 -13.3   0.0   NW   1.1  Wanshouxigong  \n",
              "420766  1014.4 -12.9   0.0  NNW   1.2  Wanshouxigong  \n",
              "420767  1014.1 -15.9   0.0  NNE   1.3  Wanshouxigong  \n",
              "\n",
              "[420768 rows x 17 columns]"
            ]
          },
          "execution_count": 63,
          "metadata": {},
          "output_type": "execute_result"
        }
      ],
      "source": [
        "main_df = pd.concat(csv_dataframes, ignore_index=True).drop(columns=['No'])\n",
        "main_df"
      ]
    },
    {
      "cell_type": "markdown",
      "metadata": {},
      "source": [
        "\n",
        "#### Handling time features in the dataframe\n",
        "As we can see that the time related features takes up too much columns in the dataframe, and I don't think this assignment of mine would need the time information to be so detailed, so, I decided to combine all of the time related columns, `year`, `month`, `day`, `hour`, into just one column features named `time`.\n"
      ]
    },
    {
      "cell_type": "code",
      "execution_count": 64,
      "metadata": {},
      "outputs": [],
      "source": [
        "# Make the ['date_time'] column\n",
        "main_df['date_time'] = pd.to_datetime(main_df[['year', 'month', 'day', 'hour']])\n",
        "\n",
        "# drop the originals columns\n",
        "main_df.drop(columns=['year', 'month', 'day', 'hour'], inplace=True)"
      ]
    },
    {
      "cell_type": "code",
      "execution_count": 65,
      "metadata": {},
      "outputs": [
        {
          "data": {
            "text/html": [
              "<div>\n",
              "<style scoped>\n",
              "    .dataframe tbody tr th:only-of-type {\n",
              "        vertical-align: middle;\n",
              "    }\n",
              "\n",
              "    .dataframe tbody tr th {\n",
              "        vertical-align: top;\n",
              "    }\n",
              "\n",
              "    .dataframe thead th {\n",
              "        text-align: right;\n",
              "    }\n",
              "</style>\n",
              "<table border=\"1\" class=\"dataframe\">\n",
              "  <thead>\n",
              "    <tr style=\"text-align: right;\">\n",
              "      <th></th>\n",
              "      <th>date_time</th>\n",
              "      <th>PM2.5</th>\n",
              "      <th>PM10</th>\n",
              "      <th>SO2</th>\n",
              "      <th>NO2</th>\n",
              "      <th>CO</th>\n",
              "      <th>O3</th>\n",
              "      <th>TEMP</th>\n",
              "      <th>PRES</th>\n",
              "      <th>DEWP</th>\n",
              "      <th>RAIN</th>\n",
              "      <th>wd</th>\n",
              "      <th>WSPM</th>\n",
              "      <th>station</th>\n",
              "    </tr>\n",
              "  </thead>\n",
              "  <tbody>\n",
              "    <tr>\n",
              "      <th>0</th>\n",
              "      <td>2013-03-01 00:00:00</td>\n",
              "      <td>4.0</td>\n",
              "      <td>4.0</td>\n",
              "      <td>4.0</td>\n",
              "      <td>7.0</td>\n",
              "      <td>300.0</td>\n",
              "      <td>77.0</td>\n",
              "      <td>-0.7</td>\n",
              "      <td>1023.0</td>\n",
              "      <td>-18.8</td>\n",
              "      <td>0.0</td>\n",
              "      <td>NNW</td>\n",
              "      <td>4.4</td>\n",
              "      <td>Aotizhongxin</td>\n",
              "    </tr>\n",
              "    <tr>\n",
              "      <th>1</th>\n",
              "      <td>2013-03-01 01:00:00</td>\n",
              "      <td>8.0</td>\n",
              "      <td>8.0</td>\n",
              "      <td>4.0</td>\n",
              "      <td>7.0</td>\n",
              "      <td>300.0</td>\n",
              "      <td>77.0</td>\n",
              "      <td>-1.1</td>\n",
              "      <td>1023.2</td>\n",
              "      <td>-18.2</td>\n",
              "      <td>0.0</td>\n",
              "      <td>N</td>\n",
              "      <td>4.7</td>\n",
              "      <td>Aotizhongxin</td>\n",
              "    </tr>\n",
              "    <tr>\n",
              "      <th>2</th>\n",
              "      <td>2013-03-01 02:00:00</td>\n",
              "      <td>7.0</td>\n",
              "      <td>7.0</td>\n",
              "      <td>5.0</td>\n",
              "      <td>10.0</td>\n",
              "      <td>300.0</td>\n",
              "      <td>73.0</td>\n",
              "      <td>-1.1</td>\n",
              "      <td>1023.5</td>\n",
              "      <td>-18.2</td>\n",
              "      <td>0.0</td>\n",
              "      <td>NNW</td>\n",
              "      <td>5.6</td>\n",
              "      <td>Aotizhongxin</td>\n",
              "    </tr>\n",
              "    <tr>\n",
              "      <th>3</th>\n",
              "      <td>2013-03-01 03:00:00</td>\n",
              "      <td>6.0</td>\n",
              "      <td>6.0</td>\n",
              "      <td>11.0</td>\n",
              "      <td>11.0</td>\n",
              "      <td>300.0</td>\n",
              "      <td>72.0</td>\n",
              "      <td>-1.4</td>\n",
              "      <td>1024.5</td>\n",
              "      <td>-19.4</td>\n",
              "      <td>0.0</td>\n",
              "      <td>NW</td>\n",
              "      <td>3.1</td>\n",
              "      <td>Aotizhongxin</td>\n",
              "    </tr>\n",
              "    <tr>\n",
              "      <th>4</th>\n",
              "      <td>2013-03-01 04:00:00</td>\n",
              "      <td>3.0</td>\n",
              "      <td>3.0</td>\n",
              "      <td>12.0</td>\n",
              "      <td>12.0</td>\n",
              "      <td>300.0</td>\n",
              "      <td>72.0</td>\n",
              "      <td>-2.0</td>\n",
              "      <td>1025.2</td>\n",
              "      <td>-19.5</td>\n",
              "      <td>0.0</td>\n",
              "      <td>N</td>\n",
              "      <td>2.0</td>\n",
              "      <td>Aotizhongxin</td>\n",
              "    </tr>\n",
              "    <tr>\n",
              "      <th>...</th>\n",
              "      <td>...</td>\n",
              "      <td>...</td>\n",
              "      <td>...</td>\n",
              "      <td>...</td>\n",
              "      <td>...</td>\n",
              "      <td>...</td>\n",
              "      <td>...</td>\n",
              "      <td>...</td>\n",
              "      <td>...</td>\n",
              "      <td>...</td>\n",
              "      <td>...</td>\n",
              "      <td>...</td>\n",
              "      <td>...</td>\n",
              "      <td>...</td>\n",
              "    </tr>\n",
              "    <tr>\n",
              "      <th>420763</th>\n",
              "      <td>2017-02-28 19:00:00</td>\n",
              "      <td>11.0</td>\n",
              "      <td>32.0</td>\n",
              "      <td>3.0</td>\n",
              "      <td>24.0</td>\n",
              "      <td>400.0</td>\n",
              "      <td>72.0</td>\n",
              "      <td>12.5</td>\n",
              "      <td>1013.5</td>\n",
              "      <td>-16.2</td>\n",
              "      <td>0.0</td>\n",
              "      <td>NW</td>\n",
              "      <td>2.4</td>\n",
              "      <td>Wanshouxigong</td>\n",
              "    </tr>\n",
              "    <tr>\n",
              "      <th>420764</th>\n",
              "      <td>2017-02-28 20:00:00</td>\n",
              "      <td>13.0</td>\n",
              "      <td>32.0</td>\n",
              "      <td>3.0</td>\n",
              "      <td>41.0</td>\n",
              "      <td>500.0</td>\n",
              "      <td>50.0</td>\n",
              "      <td>11.6</td>\n",
              "      <td>1013.6</td>\n",
              "      <td>-15.1</td>\n",
              "      <td>0.0</td>\n",
              "      <td>WNW</td>\n",
              "      <td>0.9</td>\n",
              "      <td>Wanshouxigong</td>\n",
              "    </tr>\n",
              "    <tr>\n",
              "      <th>420765</th>\n",
              "      <td>2017-02-28 21:00:00</td>\n",
              "      <td>14.0</td>\n",
              "      <td>28.0</td>\n",
              "      <td>4.0</td>\n",
              "      <td>38.0</td>\n",
              "      <td>500.0</td>\n",
              "      <td>54.0</td>\n",
              "      <td>10.8</td>\n",
              "      <td>1014.2</td>\n",
              "      <td>-13.3</td>\n",
              "      <td>0.0</td>\n",
              "      <td>NW</td>\n",
              "      <td>1.1</td>\n",
              "      <td>Wanshouxigong</td>\n",
              "    </tr>\n",
              "    <tr>\n",
              "      <th>420766</th>\n",
              "      <td>2017-02-28 22:00:00</td>\n",
              "      <td>12.0</td>\n",
              "      <td>23.0</td>\n",
              "      <td>4.0</td>\n",
              "      <td>30.0</td>\n",
              "      <td>400.0</td>\n",
              "      <td>59.0</td>\n",
              "      <td>10.5</td>\n",
              "      <td>1014.4</td>\n",
              "      <td>-12.9</td>\n",
              "      <td>0.0</td>\n",
              "      <td>NNW</td>\n",
              "      <td>1.2</td>\n",
              "      <td>Wanshouxigong</td>\n",
              "    </tr>\n",
              "    <tr>\n",
              "      <th>420767</th>\n",
              "      <td>2017-02-28 23:00:00</td>\n",
              "      <td>13.0</td>\n",
              "      <td>19.0</td>\n",
              "      <td>4.0</td>\n",
              "      <td>38.0</td>\n",
              "      <td>600.0</td>\n",
              "      <td>49.0</td>\n",
              "      <td>8.6</td>\n",
              "      <td>1014.1</td>\n",
              "      <td>-15.9</td>\n",
              "      <td>0.0</td>\n",
              "      <td>NNE</td>\n",
              "      <td>1.3</td>\n",
              "      <td>Wanshouxigong</td>\n",
              "    </tr>\n",
              "  </tbody>\n",
              "</table>\n",
              "<p>420768 rows × 14 columns</p>\n",
              "</div>"
            ],
            "text/plain": [
              "                 date_time  PM2.5  PM10   SO2   NO2     CO    O3  TEMP  \\\n",
              "0      2013-03-01 00:00:00    4.0   4.0   4.0   7.0  300.0  77.0  -0.7   \n",
              "1      2013-03-01 01:00:00    8.0   8.0   4.0   7.0  300.0  77.0  -1.1   \n",
              "2      2013-03-01 02:00:00    7.0   7.0   5.0  10.0  300.0  73.0  -1.1   \n",
              "3      2013-03-01 03:00:00    6.0   6.0  11.0  11.0  300.0  72.0  -1.4   \n",
              "4      2013-03-01 04:00:00    3.0   3.0  12.0  12.0  300.0  72.0  -2.0   \n",
              "...                    ...    ...   ...   ...   ...    ...   ...   ...   \n",
              "420763 2017-02-28 19:00:00   11.0  32.0   3.0  24.0  400.0  72.0  12.5   \n",
              "420764 2017-02-28 20:00:00   13.0  32.0   3.0  41.0  500.0  50.0  11.6   \n",
              "420765 2017-02-28 21:00:00   14.0  28.0   4.0  38.0  500.0  54.0  10.8   \n",
              "420766 2017-02-28 22:00:00   12.0  23.0   4.0  30.0  400.0  59.0  10.5   \n",
              "420767 2017-02-28 23:00:00   13.0  19.0   4.0  38.0  600.0  49.0   8.6   \n",
              "\n",
              "          PRES  DEWP  RAIN   wd  WSPM        station  \n",
              "0       1023.0 -18.8   0.0  NNW   4.4   Aotizhongxin  \n",
              "1       1023.2 -18.2   0.0    N   4.7   Aotizhongxin  \n",
              "2       1023.5 -18.2   0.0  NNW   5.6   Aotizhongxin  \n",
              "3       1024.5 -19.4   0.0   NW   3.1   Aotizhongxin  \n",
              "4       1025.2 -19.5   0.0    N   2.0   Aotizhongxin  \n",
              "...        ...   ...   ...  ...   ...            ...  \n",
              "420763  1013.5 -16.2   0.0   NW   2.4  Wanshouxigong  \n",
              "420764  1013.6 -15.1   0.0  WNW   0.9  Wanshouxigong  \n",
              "420765  1014.2 -13.3   0.0   NW   1.1  Wanshouxigong  \n",
              "420766  1014.4 -12.9   0.0  NNW   1.2  Wanshouxigong  \n",
              "420767  1014.1 -15.9   0.0  NNE   1.3  Wanshouxigong  \n",
              "\n",
              "[420768 rows x 14 columns]"
            ]
          },
          "execution_count": 65,
          "metadata": {},
          "output_type": "execute_result"
        }
      ],
      "source": [
        "# move the 'date_time' column to the leftmost position\n",
        "columns = ['date_time'] + [col for col in main_df.columns if col != 'date_time']\n",
        "\n",
        "main_df = main_df[columns]\n",
        "main_df"
      ]
    },
    {
      "cell_type": "markdown",
      "metadata": {},
      "source": [
        "### Assessing Data"
      ]
    },
    {
      "cell_type": "markdown",
      "metadata": {},
      "source": [
        "#### Checking object info of `main_df`:\n",
        "Now check on the object type of each column in the dataframe:"
      ]
    },
    {
      "cell_type": "code",
      "execution_count": 66,
      "metadata": {},
      "outputs": [
        {
          "name": "stdout",
          "output_type": "stream",
          "text": [
            "<class 'pandas.core.frame.DataFrame'>\n",
            "RangeIndex: 420768 entries, 0 to 420767\n",
            "Data columns (total 14 columns):\n",
            " #   Column     Non-Null Count   Dtype         \n",
            "---  ------     --------------   -----         \n",
            " 0   date_time  420768 non-null  datetime64[ns]\n",
            " 1   PM2.5      412029 non-null  float64       \n",
            " 2   PM10       414319 non-null  float64       \n",
            " 3   SO2        411747 non-null  float64       \n",
            " 4   NO2        408652 non-null  float64       \n",
            " 5   CO         400067 non-null  float64       \n",
            " 6   O3         407491 non-null  float64       \n",
            " 7   TEMP       420370 non-null  float64       \n",
            " 8   PRES       420375 non-null  float64       \n",
            " 9   DEWP       420365 non-null  float64       \n",
            " 10  RAIN       420378 non-null  float64       \n",
            " 11  wd         418946 non-null  object        \n",
            " 12  WSPM       420450 non-null  float64       \n",
            " 13  station    420768 non-null  object        \n",
            "dtypes: datetime64[ns](1), float64(11), object(2)\n",
            "memory usage: 44.9+ MB\n"
          ]
        }
      ],
      "source": [
        "main_df.info()"
      ]
    },
    {
      "cell_type": "markdown",
      "metadata": {},
      "source": [
        "#### Checking null values in `main_df`:\n",
        "Checking null values:"
      ]
    },
    {
      "cell_type": "code",
      "execution_count": 67,
      "metadata": {},
      "outputs": [
        {
          "name": "stdout",
          "output_type": "stream",
          "text": [
            "Air qualities' data null value:\n"
          ]
        },
        {
          "data": {
            "text/plain": [
              "date_time        0\n",
              "PM2.5         8739\n",
              "PM10          6449\n",
              "SO2           9021\n",
              "NO2          12116\n",
              "CO           20701\n",
              "O3           13277\n",
              "TEMP           398\n",
              "PRES           393\n",
              "DEWP           403\n",
              "RAIN           390\n",
              "wd            1822\n",
              "WSPM           318\n",
              "station          0\n",
              "dtype: int64"
            ]
          },
          "execution_count": 67,
          "metadata": {},
          "output_type": "execute_result"
        }
      ],
      "source": [
        "print(\"Air qualities' data null value:\")\n",
        "main_df.isna().sum()"
      ]
    },
    {
      "cell_type": "markdown",
      "metadata": {},
      "source": [
        "As we can see that there are many null values in the numerical data in each stations. This problem will be handle later in the **cleaning data** section."
      ]
    },
    {
      "cell_type": "markdown",
      "metadata": {},
      "source": [
        "#### Checking duplicates in `main_df`:\n",
        "Air qualities' data duplicate test:"
      ]
    },
    {
      "cell_type": "code",
      "execution_count": 68,
      "metadata": {},
      "outputs": [
        {
          "name": "stdout",
          "output_type": "stream",
          "text": [
            "Air quality data duplicated sum:  0\n"
          ]
        }
      ],
      "source": [
        "print(\"Air quality data duplicated sum: \", main_df.duplicated().sum())"
      ]
    },
    {
      "cell_type": "markdown",
      "metadata": {},
      "source": [
        "No duplicates, this mean that we won't need to handle duplicate problem."
      ]
    },
    {
      "cell_type": "markdown",
      "metadata": {},
      "source": [
        "#### Checking descriptive statistic in `main_df`:\n",
        "Checking description on the `main_df` using descriptive statistics method."
      ]
    },
    {
      "cell_type": "code",
      "execution_count": 69,
      "metadata": {},
      "outputs": [
        {
          "data": {
            "text/html": [
              "<div>\n",
              "<style scoped>\n",
              "    .dataframe tbody tr th:only-of-type {\n",
              "        vertical-align: middle;\n",
              "    }\n",
              "\n",
              "    .dataframe tbody tr th {\n",
              "        vertical-align: top;\n",
              "    }\n",
              "\n",
              "    .dataframe thead th {\n",
              "        text-align: right;\n",
              "    }\n",
              "</style>\n",
              "<table border=\"1\" class=\"dataframe\">\n",
              "  <thead>\n",
              "    <tr style=\"text-align: right;\">\n",
              "      <th></th>\n",
              "      <th>date_time</th>\n",
              "      <th>PM2.5</th>\n",
              "      <th>PM10</th>\n",
              "      <th>SO2</th>\n",
              "      <th>NO2</th>\n",
              "      <th>CO</th>\n",
              "      <th>O3</th>\n",
              "      <th>TEMP</th>\n",
              "      <th>PRES</th>\n",
              "      <th>DEWP</th>\n",
              "      <th>RAIN</th>\n",
              "      <th>WSPM</th>\n",
              "    </tr>\n",
              "  </thead>\n",
              "  <tbody>\n",
              "    <tr>\n",
              "      <th>count</th>\n",
              "      <td>420768</td>\n",
              "      <td>412029.000000</td>\n",
              "      <td>414319.000000</td>\n",
              "      <td>411747.000000</td>\n",
              "      <td>408652.000000</td>\n",
              "      <td>400067.000000</td>\n",
              "      <td>407491.000000</td>\n",
              "      <td>420370.000000</td>\n",
              "      <td>420375.000000</td>\n",
              "      <td>420365.000000</td>\n",
              "      <td>420378.000000</td>\n",
              "      <td>420450.000000</td>\n",
              "    </tr>\n",
              "    <tr>\n",
              "      <th>mean</th>\n",
              "      <td>2015-03-01 11:30:00.000001024</td>\n",
              "      <td>79.793428</td>\n",
              "      <td>104.602618</td>\n",
              "      <td>15.830835</td>\n",
              "      <td>50.638586</td>\n",
              "      <td>1230.766454</td>\n",
              "      <td>57.372271</td>\n",
              "      <td>13.538976</td>\n",
              "      <td>1010.746982</td>\n",
              "      <td>2.490822</td>\n",
              "      <td>0.064476</td>\n",
              "      <td>1.729711</td>\n",
              "    </tr>\n",
              "    <tr>\n",
              "      <th>min</th>\n",
              "      <td>2013-03-01 00:00:00</td>\n",
              "      <td>2.000000</td>\n",
              "      <td>2.000000</td>\n",
              "      <td>0.285600</td>\n",
              "      <td>1.026500</td>\n",
              "      <td>100.000000</td>\n",
              "      <td>0.214200</td>\n",
              "      <td>-19.900000</td>\n",
              "      <td>982.400000</td>\n",
              "      <td>-43.400000</td>\n",
              "      <td>0.000000</td>\n",
              "      <td>0.000000</td>\n",
              "    </tr>\n",
              "    <tr>\n",
              "      <th>25%</th>\n",
              "      <td>2014-03-01 05:45:00</td>\n",
              "      <td>20.000000</td>\n",
              "      <td>36.000000</td>\n",
              "      <td>3.000000</td>\n",
              "      <td>23.000000</td>\n",
              "      <td>500.000000</td>\n",
              "      <td>11.000000</td>\n",
              "      <td>3.100000</td>\n",
              "      <td>1002.300000</td>\n",
              "      <td>-8.900000</td>\n",
              "      <td>0.000000</td>\n",
              "      <td>0.900000</td>\n",
              "    </tr>\n",
              "    <tr>\n",
              "      <th>50%</th>\n",
              "      <td>2015-03-01 11:30:00</td>\n",
              "      <td>55.000000</td>\n",
              "      <td>82.000000</td>\n",
              "      <td>7.000000</td>\n",
              "      <td>43.000000</td>\n",
              "      <td>900.000000</td>\n",
              "      <td>45.000000</td>\n",
              "      <td>14.500000</td>\n",
              "      <td>1010.400000</td>\n",
              "      <td>3.100000</td>\n",
              "      <td>0.000000</td>\n",
              "      <td>1.400000</td>\n",
              "    </tr>\n",
              "    <tr>\n",
              "      <th>75%</th>\n",
              "      <td>2016-02-29 17:15:00</td>\n",
              "      <td>111.000000</td>\n",
              "      <td>145.000000</td>\n",
              "      <td>20.000000</td>\n",
              "      <td>71.000000</td>\n",
              "      <td>1500.000000</td>\n",
              "      <td>82.000000</td>\n",
              "      <td>23.300000</td>\n",
              "      <td>1019.000000</td>\n",
              "      <td>15.100000</td>\n",
              "      <td>0.000000</td>\n",
              "      <td>2.200000</td>\n",
              "    </tr>\n",
              "    <tr>\n",
              "      <th>max</th>\n",
              "      <td>2017-02-28 23:00:00</td>\n",
              "      <td>999.000000</td>\n",
              "      <td>999.000000</td>\n",
              "      <td>500.000000</td>\n",
              "      <td>290.000000</td>\n",
              "      <td>10000.000000</td>\n",
              "      <td>1071.000000</td>\n",
              "      <td>41.600000</td>\n",
              "      <td>1042.800000</td>\n",
              "      <td>29.100000</td>\n",
              "      <td>72.500000</td>\n",
              "      <td>13.200000</td>\n",
              "    </tr>\n",
              "    <tr>\n",
              "      <th>std</th>\n",
              "      <td>NaN</td>\n",
              "      <td>80.822391</td>\n",
              "      <td>91.772426</td>\n",
              "      <td>21.650603</td>\n",
              "      <td>35.127912</td>\n",
              "      <td>1160.182716</td>\n",
              "      <td>56.661607</td>\n",
              "      <td>11.436139</td>\n",
              "      <td>10.474055</td>\n",
              "      <td>13.793847</td>\n",
              "      <td>0.821004</td>\n",
              "      <td>1.246386</td>\n",
              "    </tr>\n",
              "  </tbody>\n",
              "</table>\n",
              "</div>"
            ],
            "text/plain": [
              "                           date_time          PM2.5           PM10  \\\n",
              "count                         420768  412029.000000  414319.000000   \n",
              "mean   2015-03-01 11:30:00.000001024      79.793428     104.602618   \n",
              "min              2013-03-01 00:00:00       2.000000       2.000000   \n",
              "25%              2014-03-01 05:45:00      20.000000      36.000000   \n",
              "50%              2015-03-01 11:30:00      55.000000      82.000000   \n",
              "75%              2016-02-29 17:15:00     111.000000     145.000000   \n",
              "max              2017-02-28 23:00:00     999.000000     999.000000   \n",
              "std                              NaN      80.822391      91.772426   \n",
              "\n",
              "                 SO2            NO2             CO             O3  \\\n",
              "count  411747.000000  408652.000000  400067.000000  407491.000000   \n",
              "mean       15.830835      50.638586    1230.766454      57.372271   \n",
              "min         0.285600       1.026500     100.000000       0.214200   \n",
              "25%         3.000000      23.000000     500.000000      11.000000   \n",
              "50%         7.000000      43.000000     900.000000      45.000000   \n",
              "75%        20.000000      71.000000    1500.000000      82.000000   \n",
              "max       500.000000     290.000000   10000.000000    1071.000000   \n",
              "std        21.650603      35.127912    1160.182716      56.661607   \n",
              "\n",
              "                TEMP           PRES           DEWP           RAIN  \\\n",
              "count  420370.000000  420375.000000  420365.000000  420378.000000   \n",
              "mean       13.538976    1010.746982       2.490822       0.064476   \n",
              "min       -19.900000     982.400000     -43.400000       0.000000   \n",
              "25%         3.100000    1002.300000      -8.900000       0.000000   \n",
              "50%        14.500000    1010.400000       3.100000       0.000000   \n",
              "75%        23.300000    1019.000000      15.100000       0.000000   \n",
              "max        41.600000    1042.800000      29.100000      72.500000   \n",
              "std        11.436139      10.474055      13.793847       0.821004   \n",
              "\n",
              "                WSPM  \n",
              "count  420450.000000  \n",
              "mean        1.729711  \n",
              "min         0.000000  \n",
              "25%         0.900000  \n",
              "50%         1.400000  \n",
              "75%         2.200000  \n",
              "max        13.200000  \n",
              "std         1.246386  "
            ]
          },
          "execution_count": 69,
          "metadata": {},
          "output_type": "execute_result"
        }
      ],
      "source": [
        "main_df.describe()"
      ]
    },
    {
      "cell_type": "markdown",
      "metadata": {},
      "source": [
        "#### Insights on assessing data\n",
        "\n",
        "As we've seen in the assessment process of the data, there are several problems that I would like to fix:\n",
        "\n",
        "1. Cleaning null values.\n",
        "2. As there is no duplicated data, there's no need to solve this problem."
      ]
    },
    {
      "cell_type": "markdown",
      "metadata": {
        "id": "EhN5R4hr8DC1"
      },
      "source": [
        "### Cleaning Data"
      ]
    },
    {
      "cell_type": "markdown",
      "metadata": {},
      "source": [
        "#### Handling null values"
      ]
    },
    {
      "cell_type": "markdown",
      "metadata": {},
      "source": [
        "Since the data in this dataset shows a trend, I decided the best way to solve the null values problem is by using interpolation. The interpolation would be done by taking each station data out of the `main_df`, then interpolate each quantitative data features in both station. On `wd` feature which I think I wouldn't be using."
      ]
    },
    {
      "cell_type": "markdown",
      "metadata": {},
      "source": [
        "Before filling the null value of each numerical data, I would the current condition on the data first."
      ]
    },
    {
      "cell_type": "markdown",
      "metadata": {},
      "source": [
        "Here's how the null value condition of each data is right now:"
      ]
    },
    {
      "cell_type": "code",
      "execution_count": 77,
      "metadata": {},
      "outputs": [
        {
          "data": {
            "text/plain": [
              "date_time        0\n",
              "PM2.5         8739\n",
              "PM10          6449\n",
              "SO2           9021\n",
              "NO2          12116\n",
              "CO           20701\n",
              "O3           13277\n",
              "TEMP           398\n",
              "PRES           393\n",
              "DEWP           403\n",
              "RAIN           390\n",
              "wd            1822\n",
              "WSPM           318\n",
              "station          0\n",
              "dtype: int64"
            ]
          },
          "execution_count": 77,
          "metadata": {},
          "output_type": "execute_result"
        }
      ],
      "source": [
        "main_df.isna().sum()"
      ]
    },
    {
      "cell_type": "markdown",
      "metadata": {},
      "source": [
        "Before fixing the null value problem. I would like to show a condition of the current condition of the data that comes with a null value as shown using the plot below, from one of a station and some time range of it:"
      ]
    },
    {
      "cell_type": "code",
      "execution_count": 78,
      "metadata": {},
      "outputs": [
        {
          "data": {
            "image/png": "[encoded data removed]",
            "text/plain": [
              "<Figure size 2000x600 with 1 Axes>"
            ]
          },
          "metadata": {},
          "output_type": "display_data"
        }
      ],
      "source": [
        "# Create a scatter plot\n",
        "temp_df = main_df[main_df['station'] == 'Aotizhongxin']\n",
        "temp_df = temp_df[(temp_df['date_time'].dt.year == 2016) & (temp_df['date_time'].dt.month == 7) & (temp_df['date_time'].dt.day <= 27) & (temp_df['date_time'].dt.day >= 25)]\n",
        "plt.figure(figsize=(20, 6))\n",
        "plt.plot(temp_df['date_time'], temp_df['PM10'], alpha=0.8)\n",
        "plt.title('Trend of PM10 of Aotizhongxin station over Time')\n",
        "plt.xlabel('Date Time')\n",
        "plt.ylabel('PM2.5')\n",
        "plt.xticks(rotation=45)  # Rotate x-axis labels for better readability\n",
        "plt.grid()\n",
        "plt.tight_layout()  # Adjust layout to prevent clipping of labels\n",
        "plt.show()"
      ]
    },
    {
      "cell_type": "markdown",
      "metadata": {},
      "source": [
        "As we can see from the example above that there are missing values on the `PM10` data of the `Aotizhongxin` station at day 26. To solve this problem I would like to interpolate all of the numerical data of the features in the data."
      ]
    },
    {
      "cell_type": "code",
      "execution_count": 79,
      "metadata": {},
      "outputs": [
        {
          "name": "stdout",
          "output_type": "stream",
          "text": [
            "<class 'pandas.core.frame.DataFrame'>\n",
            "RangeIndex: 420768 entries, 0 to 420767\n",
            "Data columns (total 14 columns):\n",
            " #   Column     Non-Null Count   Dtype         \n",
            "---  ------     --------------   -----         \n",
            " 0   date_time  420768 non-null  datetime64[ns]\n",
            " 1   PM2.5      412029 non-null  float64       \n",
            " 2   PM10       414319 non-null  float64       \n",
            " 3   SO2        411747 non-null  float64       \n",
            " 4   NO2        408652 non-null  float64       \n",
            " 5   CO         400067 non-null  float64       \n",
            " 6   O3         407491 non-null  float64       \n",
            " 7   TEMP       420370 non-null  float64       \n",
            " 8   PRES       420375 non-null  float64       \n",
            " 9   DEWP       420365 non-null  float64       \n",
            " 10  RAIN       420378 non-null  float64       \n",
            " 11  wd         418946 non-null  object        \n",
            " 12  WSPM       420450 non-null  float64       \n",
            " 13  station    420768 non-null  object        \n",
            "dtypes: datetime64[ns](1), float64(11), object(2)\n",
            "memory usage: 44.9+ MB\n"
          ]
        }
      ],
      "source": [
        "main_df.info()"
      ]
    },
    {
      "cell_type": "markdown",
      "metadata": {},
      "source": [
        "Since all of the numerical data in the data above has the type of `float64`, I would then apply the function of interpolation using this information. Interpolation will be done for each station, so the interpolation wouldn't go wrong at both end of data, which might happen because the function thinks the end data of one station is related to others."
      ]
    },
    {
      "cell_type": "code",
      "execution_count": 82,
      "metadata": {},
      "outputs": [],
      "source": [
        "# Function for interpolating float64 features within each station\n",
        "def interpolate_float64_per_station(df, station_col):\n",
        "    # Put df into temp_df so the original dataframe wouldn't get rewritten\n",
        "    temp_df = df.copy()\n",
        "\n",
        "    # Get columns with dtype float64\n",
        "    float64_cols = temp_df.select_dtypes(include=['float64']).columns\n",
        "\n",
        "    # Group by station and apply interpolation to float64 columns\n",
        "    temp_df[float64_cols] = temp_df.groupby(station_col)[float64_cols].apply(lambda group: group.interpolate()).reset_index(drop=True)\n",
        "    \n",
        "    return temp_df"
      ]
    },
    {
      "cell_type": "code",
      "execution_count": 90,
      "metadata": {},
      "outputs": [],
      "source": [
        "interpolated_main_df = interpolate_float64_per_station(main_df, 'station')"
      ]
    },
    {
      "cell_type": "markdown",
      "metadata": {},
      "source": [
        "Now we can see that the null value is mostly fixed now in the `interpolated_main_df`, which can be seen by the difference of `isna().sum()` between `main_df` and `interpolated_main_df`."
      ]
    },
    {
      "cell_type": "code",
      "execution_count": 43,
      "metadata": {},
      "outputs": [
        {
          "data": {
            "text/plain": [
              "date_time        0\n",
              "PM2.5         8739\n",
              "PM10          6449\n",
              "SO2           9021\n",
              "NO2          12116\n",
              "CO           20701\n",
              "O3           13277\n",
              "TEMP           398\n",
              "PRES           393\n",
              "DEWP           403\n",
              "RAIN           390\n",
              "wd            1822\n",
              "WSPM           318\n",
              "station          0\n",
              "dtype: int64"
            ]
          },
          "execution_count": 43,
          "metadata": {},
          "output_type": "execute_result"
        }
      ],
      "source": [
        "main_df.isna().sum()"
      ]
    },
    {
      "cell_type": "code",
      "execution_count": 91,
      "metadata": {},
      "outputs": [
        {
          "data": {
            "text/plain": [
              "date_time       0\n",
              "PM2.5           0\n",
              "PM10            0\n",
              "SO2             0\n",
              "NO2            22\n",
              "CO              0\n",
              "O3              0\n",
              "TEMP            0\n",
              "PRES            0\n",
              "DEWP            0\n",
              "RAIN            0\n",
              "wd           1822\n",
              "WSPM            0\n",
              "station         0\n",
              "dtype: int64"
            ]
          },
          "execution_count": 91,
          "metadata": {},
          "output_type": "execute_result"
        }
      ],
      "source": [
        "interpolated_main_df.isna().sum()"
      ]
    },
    {
      "cell_type": "code",
      "execution_count": 92,
      "metadata": {},
      "outputs": [
        {
          "data": {
            "text/html": [
              "<div>\n",
              "<style scoped>\n",
              "    .dataframe tbody tr th:only-of-type {\n",
              "        vertical-align: middle;\n",
              "    }\n",
              "\n",
              "    .dataframe tbody tr th {\n",
              "        vertical-align: top;\n",
              "    }\n",
              "\n",
              "    .dataframe thead th {\n",
              "        text-align: right;\n",
              "    }\n",
              "</style>\n",
              "<table border=\"1\" class=\"dataframe\">\n",
              "  <thead>\n",
              "    <tr style=\"text-align: right;\">\n",
              "      <th></th>\n",
              "      <th>date_time</th>\n",
              "      <th>PM2.5</th>\n",
              "      <th>PM10</th>\n",
              "      <th>SO2</th>\n",
              "      <th>NO2</th>\n",
              "      <th>CO</th>\n",
              "      <th>O3</th>\n",
              "      <th>TEMP</th>\n",
              "      <th>PRES</th>\n",
              "      <th>DEWP</th>\n",
              "      <th>RAIN</th>\n",
              "      <th>wd</th>\n",
              "      <th>WSPM</th>\n",
              "      <th>station</th>\n",
              "    </tr>\n",
              "  </thead>\n",
              "  <tbody>\n",
              "    <tr>\n",
              "      <th>0</th>\n",
              "      <td>2013-03-01 00:00:00</td>\n",
              "      <td>4.0</td>\n",
              "      <td>4.0</td>\n",
              "      <td>4.0</td>\n",
              "      <td>7.0</td>\n",
              "      <td>300.0</td>\n",
              "      <td>77.0</td>\n",
              "      <td>-0.7</td>\n",
              "      <td>1023.0</td>\n",
              "      <td>-18.8</td>\n",
              "      <td>0.0</td>\n",
              "      <td>NNW</td>\n",
              "      <td>4.4</td>\n",
              "      <td>Aotizhongxin</td>\n",
              "    </tr>\n",
              "    <tr>\n",
              "      <th>1</th>\n",
              "      <td>2013-03-01 01:00:00</td>\n",
              "      <td>8.0</td>\n",
              "      <td>8.0</td>\n",
              "      <td>4.0</td>\n",
              "      <td>7.0</td>\n",
              "      <td>300.0</td>\n",
              "      <td>77.0</td>\n",
              "      <td>-1.1</td>\n",
              "      <td>1023.2</td>\n",
              "      <td>-18.2</td>\n",
              "      <td>0.0</td>\n",
              "      <td>N</td>\n",
              "      <td>4.7</td>\n",
              "      <td>Aotizhongxin</td>\n",
              "    </tr>\n",
              "    <tr>\n",
              "      <th>2</th>\n",
              "      <td>2013-03-01 02:00:00</td>\n",
              "      <td>7.0</td>\n",
              "      <td>7.0</td>\n",
              "      <td>5.0</td>\n",
              "      <td>10.0</td>\n",
              "      <td>300.0</td>\n",
              "      <td>73.0</td>\n",
              "      <td>-1.1</td>\n",
              "      <td>1023.5</td>\n",
              "      <td>-18.2</td>\n",
              "      <td>0.0</td>\n",
              "      <td>NNW</td>\n",
              "      <td>5.6</td>\n",
              "      <td>Aotizhongxin</td>\n",
              "    </tr>\n",
              "    <tr>\n",
              "      <th>3</th>\n",
              "      <td>2013-03-01 03:00:00</td>\n",
              "      <td>6.0</td>\n",
              "      <td>6.0</td>\n",
              "      <td>11.0</td>\n",
              "      <td>11.0</td>\n",
              "      <td>300.0</td>\n",
              "      <td>72.0</td>\n",
              "      <td>-1.4</td>\n",
              "      <td>1024.5</td>\n",
              "      <td>-19.4</td>\n",
              "      <td>0.0</td>\n",
              "      <td>NW</td>\n",
              "      <td>3.1</td>\n",
              "      <td>Aotizhongxin</td>\n",
              "    </tr>\n",
              "    <tr>\n",
              "      <th>4</th>\n",
              "      <td>2013-03-01 04:00:00</td>\n",
              "      <td>3.0</td>\n",
              "      <td>3.0</td>\n",
              "      <td>12.0</td>\n",
              "      <td>12.0</td>\n",
              "      <td>300.0</td>\n",
              "      <td>72.0</td>\n",
              "      <td>-2.0</td>\n",
              "      <td>1025.2</td>\n",
              "      <td>-19.5</td>\n",
              "      <td>0.0</td>\n",
              "      <td>N</td>\n",
              "      <td>2.0</td>\n",
              "      <td>Aotizhongxin</td>\n",
              "    </tr>\n",
              "    <tr>\n",
              "      <th>...</th>\n",
              "      <td>...</td>\n",
              "      <td>...</td>\n",
              "      <td>...</td>\n",
              "      <td>...</td>\n",
              "      <td>...</td>\n",
              "      <td>...</td>\n",
              "      <td>...</td>\n",
              "      <td>...</td>\n",
              "      <td>...</td>\n",
              "      <td>...</td>\n",
              "      <td>...</td>\n",
              "      <td>...</td>\n",
              "      <td>...</td>\n",
              "      <td>...</td>\n",
              "    </tr>\n",
              "    <tr>\n",
              "      <th>420763</th>\n",
              "      <td>2017-02-28 19:00:00</td>\n",
              "      <td>11.0</td>\n",
              "      <td>32.0</td>\n",
              "      <td>3.0</td>\n",
              "      <td>24.0</td>\n",
              "      <td>400.0</td>\n",
              "      <td>72.0</td>\n",
              "      <td>12.5</td>\n",
              "      <td>1013.5</td>\n",
              "      <td>-16.2</td>\n",
              "      <td>0.0</td>\n",
              "      <td>NW</td>\n",
              "      <td>2.4</td>\n",
              "      <td>Wanshouxigong</td>\n",
              "    </tr>\n",
              "    <tr>\n",
              "      <th>420764</th>\n",
              "      <td>2017-02-28 20:00:00</td>\n",
              "      <td>13.0</td>\n",
              "      <td>32.0</td>\n",
              "      <td>3.0</td>\n",
              "      <td>41.0</td>\n",
              "      <td>500.0</td>\n",
              "      <td>50.0</td>\n",
              "      <td>11.6</td>\n",
              "      <td>1013.6</td>\n",
              "      <td>-15.1</td>\n",
              "      <td>0.0</td>\n",
              "      <td>WNW</td>\n",
              "      <td>0.9</td>\n",
              "      <td>Wanshouxigong</td>\n",
              "    </tr>\n",
              "    <tr>\n",
              "      <th>420765</th>\n",
              "      <td>2017-02-28 21:00:00</td>\n",
              "      <td>14.0</td>\n",
              "      <td>28.0</td>\n",
              "      <td>4.0</td>\n",
              "      <td>38.0</td>\n",
              "      <td>500.0</td>\n",
              "      <td>54.0</td>\n",
              "      <td>10.8</td>\n",
              "      <td>1014.2</td>\n",
              "      <td>-13.3</td>\n",
              "      <td>0.0</td>\n",
              "      <td>NW</td>\n",
              "      <td>1.1</td>\n",
              "      <td>Wanshouxigong</td>\n",
              "    </tr>\n",
              "    <tr>\n",
              "      <th>420766</th>\n",
              "      <td>2017-02-28 22:00:00</td>\n",
              "      <td>12.0</td>\n",
              "      <td>23.0</td>\n",
              "      <td>4.0</td>\n",
              "      <td>30.0</td>\n",
              "      <td>400.0</td>\n",
              "      <td>59.0</td>\n",
              "      <td>10.5</td>\n",
              "      <td>1014.4</td>\n",
              "      <td>-12.9</td>\n",
              "      <td>0.0</td>\n",
              "      <td>NNW</td>\n",
              "      <td>1.2</td>\n",
              "      <td>Wanshouxigong</td>\n",
              "    </tr>\n",
              "    <tr>\n",
              "      <th>420767</th>\n",
              "      <td>2017-02-28 23:00:00</td>\n",
              "      <td>13.0</td>\n",
              "      <td>19.0</td>\n",
              "      <td>4.0</td>\n",
              "      <td>38.0</td>\n",
              "      <td>600.0</td>\n",
              "      <td>49.0</td>\n",
              "      <td>8.6</td>\n",
              "      <td>1014.1</td>\n",
              "      <td>-15.9</td>\n",
              "      <td>0.0</td>\n",
              "      <td>NNE</td>\n",
              "      <td>1.3</td>\n",
              "      <td>Wanshouxigong</td>\n",
              "    </tr>\n",
              "  </tbody>\n",
              "</table>\n",
              "<p>420768 rows × 14 columns</p>\n",
              "</div>"
            ],
            "text/plain": [
              "                 date_time  PM2.5  PM10   SO2   NO2     CO    O3  TEMP  \\\n",
              "0      2013-03-01 00:00:00    4.0   4.0   4.0   7.0  300.0  77.0  -0.7   \n",
              "1      2013-03-01 01:00:00    8.0   8.0   4.0   7.0  300.0  77.0  -1.1   \n",
              "2      2013-03-01 02:00:00    7.0   7.0   5.0  10.0  300.0  73.0  -1.1   \n",
              "3      2013-03-01 03:00:00    6.0   6.0  11.0  11.0  300.0  72.0  -1.4   \n",
              "4      2013-03-01 04:00:00    3.0   3.0  12.0  12.0  300.0  72.0  -2.0   \n",
              "...                    ...    ...   ...   ...   ...    ...   ...   ...   \n",
              "420763 2017-02-28 19:00:00   11.0  32.0   3.0  24.0  400.0  72.0  12.5   \n",
              "420764 2017-02-28 20:00:00   13.0  32.0   3.0  41.0  500.0  50.0  11.6   \n",
              "420765 2017-02-28 21:00:00   14.0  28.0   4.0  38.0  500.0  54.0  10.8   \n",
              "420766 2017-02-28 22:00:00   12.0  23.0   4.0  30.0  400.0  59.0  10.5   \n",
              "420767 2017-02-28 23:00:00   13.0  19.0   4.0  38.0  600.0  49.0   8.6   \n",
              "\n",
              "          PRES  DEWP  RAIN   wd  WSPM        station  \n",
              "0       1023.0 -18.8   0.0  NNW   4.4   Aotizhongxin  \n",
              "1       1023.2 -18.2   0.0    N   4.7   Aotizhongxin  \n",
              "2       1023.5 -18.2   0.0  NNW   5.6   Aotizhongxin  \n",
              "3       1024.5 -19.4   0.0   NW   3.1   Aotizhongxin  \n",
              "4       1025.2 -19.5   0.0    N   2.0   Aotizhongxin  \n",
              "...        ...   ...   ...  ...   ...            ...  \n",
              "420763  1013.5 -16.2   0.0   NW   2.4  Wanshouxigong  \n",
              "420764  1013.6 -15.1   0.0  WNW   0.9  Wanshouxigong  \n",
              "420765  1014.2 -13.3   0.0   NW   1.1  Wanshouxigong  \n",
              "420766  1014.4 -12.9   0.0  NNW   1.2  Wanshouxigong  \n",
              "420767  1014.1 -15.9   0.0  NNE   1.3  Wanshouxigong  \n",
              "\n",
              "[420768 rows x 14 columns]"
            ]
          },
          "execution_count": 92,
          "metadata": {},
          "output_type": "execute_result"
        }
      ],
      "source": [
        "interpolated_main_df"
      ]
    },
    {
      "cell_type": "markdown",
      "metadata": {},
      "source": [
        "Now the plot as with the same time range and feature in `main_df` would become this in `interpolated_main_df`"
      ]
    },
    {
      "cell_type": "code",
      "execution_count": 93,
      "metadata": {},
      "outputs": [
        {
          "data": {
            "image/png": "[encoded data removed]",
            "text/plain": [
              "<Figure size 2000x600 with 1 Axes>"
            ]
          },
          "metadata": {},
          "output_type": "display_data"
        }
      ],
      "source": [
        "# Create a scatter plot\n",
        "temp_df = interpolated_main_df[interpolated_main_df['station'] == 'Aotizhongxin']\n",
        "temp_df = temp_df[(temp_df['date_time'].dt.year == 2016) & (temp_df['date_time'].dt.month == 7) & (temp_df['date_time'].dt.day <= 27) & (temp_df['date_time'].dt.day >= 25)]\n",
        "plt.figure(figsize=(20, 6))\n",
        "plt.plot(temp_df['date_time'], temp_df['PM10'], alpha=0.8)\n",
        "plt.title('Trend of PM10 of Aotizhongxin station over Time')\n",
        "plt.xlabel('Date Time')\n",
        "plt.ylabel('PM2.5')\n",
        "plt.xticks(rotation=45)  # Rotate x-axis labels for better readability\n",
        "plt.grid()\n",
        "plt.tight_layout()  # Adjust layout to prevent clipping of labels\n",
        "plt.show()"
      ]
    },
    {
      "cell_type": "markdown",
      "metadata": {
        "id": "7dtxhAPrkhPL"
      },
      "source": [
        "**Insight:**\n",
        "- xxx\n",
        "- xxx"
      ]
    },
    {
      "cell_type": "code",
      "execution_count": null,
      "metadata": {
        "id": "jVnYpprE9Evz"
      },
      "outputs": [],
      "source": []
    },
    {
      "cell_type": "markdown",
      "metadata": {
        "id": "Q_5ejIqckiSP"
      },
      "source": [
        "**Insight:**\n",
        "- xxx\n",
        "- xxx"
      ]
    },
    {
      "cell_type": "markdown",
      "metadata": {
        "id": "gp-Y6wU38DC1"
      },
      "source": [
        "## Exploratory Data Analysis (EDA)"
      ]
    },
    {
      "cell_type": "markdown",
      "metadata": {
        "id": "MW7WF2kr8DC1"
      },
      "source": [
        "### Explore ..."
      ]
    },
    {
      "cell_type": "code",
      "execution_count": null,
      "metadata": {
        "id": "e9CQCZjk8DC2"
      },
      "outputs": [],
      "source": []
    },
    {
      "cell_type": "markdown",
      "metadata": {
        "id": "th_Lzl2Fkj9O"
      },
      "source": [
        "**Insight:**\n",
        "- xxx\n",
        "- xxx"
      ]
    },
    {
      "cell_type": "markdown",
      "metadata": {
        "id": "zsyZjqak8DC2"
      },
      "source": [
        "## Visualization & Explanatory Analysis"
      ]
    },
    {
      "cell_type": "markdown",
      "metadata": {
        "id": "HZxOiQ6n8DC2"
      },
      "source": [
        "### Pertanyaan 1:"
      ]
    },
    {
      "cell_type": "code",
      "execution_count": null,
      "metadata": {
        "id": "1swJUdAD8DC2"
      },
      "outputs": [],
      "source": []
    },
    {
      "cell_type": "markdown",
      "metadata": {
        "id": "DgHI7CiU8DC2"
      },
      "source": [
        "### Pertanyaan 2:"
      ]
    },
    {
      "cell_type": "code",
      "execution_count": null,
      "metadata": {
        "id": "Go0lCsvO8DC2"
      },
      "outputs": [],
      "source": []
    },
    {
      "cell_type": "markdown",
      "metadata": {
        "id": "_0-36BDLklRg"
      },
      "source": [
        "**Insight:**\n",
        "- xxx\n",
        "- xxx"
      ]
    },
    {
      "cell_type": "markdown",
      "metadata": {
        "id": "9y4VUsmcYNZ5"
      },
      "source": [
        "## Analisis Lanjutan (Opsional)"
      ]
    },
    {
      "cell_type": "code",
      "execution_count": null,
      "metadata": {
        "id": "iWhnzsJGYUCO"
      },
      "outputs": [],
      "source": []
    },
    {
      "cell_type": "markdown",
      "metadata": {
        "id": "_WeHlCeX8DC2"
      },
      "source": [
        "## Conclusion"
      ]
    },
    {
      "cell_type": "markdown",
      "metadata": {
        "id": "ZTcyR48Y8DC2"
      },
      "source": [
        "- Conclution pertanyaan 1\n",
        "- Conclution pertanyaan 2"
      ]
    }
  ],
  "metadata": {
    "colab": {
      "provenance": []
    },
    "kernelspec": {
      "display_name": "dicoding-air-quality-data-analysis",
      "language": "python",
      "name": "python3"
    },
    "language_info": {
      "codemirror_mode": {
        "name": "ipython",
        "version": 3
      },
      "file_extension": ".py",
      "mimetype": "text/x-python",
      "name": "python",
      "nbconvert_exporter": "python",
      "pygments_lexer": "ipython3",
      "version": "3.12.4"
    },
    "orig_nbformat": 4
  },
  "nbformat": 4,
  "nbformat_minor": 0
}
